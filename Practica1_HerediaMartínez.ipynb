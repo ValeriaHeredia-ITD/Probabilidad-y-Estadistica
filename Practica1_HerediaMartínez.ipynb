{
  "nbformat": 4,
  "nbformat_minor": 0,
  "metadata": {
    "colab": {
      "provenance": [],
      "include_colab_link": true
    },
    "kernelspec": {
      "name": "python3",
      "display_name": "Python 3"
    },
    "language_info": {
      "name": "python"
    }
  },
  "cells": [
    {
      "cell_type": "markdown",
      "metadata": {
        "id": "view-in-github",
        "colab_type": "text"
      },
      "source": [
        "<a href=\"https://colab.research.google.com/github/ValeriaHeredia-ITD/Probabilidad-y-Estadistica/blob/main/Practica1_HerediaMart%C3%ADnez.ipynb\" target=\"_parent\"><img src=\"https://colab.research.google.com/assets/colab-badge.svg\" alt=\"Open In Colab\"/></a>"
      ]
    },
    {
      "cell_type": "markdown",
      "source": [
        "## **PROBABILIDAD Y ESTADÍSTICA**\n",
        "\n",
        "**UNIDAD 1**\n",
        "\n",
        "Práctica 1. Estadística descriptiva básica e Historigramas.\n",
        "\n",
        "*Facilitador: Dr.José Gabriel Rodríguez Rivas*\n",
        "\n",
        "Alumno: Heredia Martínez Ángel Valeria"
      ],
      "metadata": {
        "id": "nW1eEe2feByv"
      }
    },
    {
      "cell_type": "markdown",
      "source": [
        "Ejemplo 1. Registro de calificaciones de 12 alumnos"
      ],
      "metadata": {
        "id": "I8ZCZ1FJwbJ3"
      }
    },
    {
      "cell_type": "code",
      "execution_count": 3,
      "metadata": {
        "id": "2KfRJN72vrMM"
      },
      "outputs": [],
      "source": [
        "from statistics import mean, median, mode, multimode"
      ]
    },
    {
      "cell_type": "code",
      "source": [
        "#Lista de calificaciones del grupo a de probabilidad y estadística\n",
        "grupoa = [70, 70, 65, 90, 100, 95, 45, 80, 73, 20, 100, 96]\n",
        "print(grupoa)"
      ],
      "metadata": {
        "id": "GmBvHbzHwh4w",
        "colab": {
          "base_uri": "https://localhost:8080/"
        },
        "outputId": "a268c34d-ac34-47b9-d030-7248e39d1778"
      },
      "execution_count": 4,
      "outputs": [
        {
          "output_type": "stream",
          "name": "stdout",
          "text": [
            "[70, 70, 65, 90, 100, 95, 45, 80, 73, 20, 100, 96]\n"
          ]
        }
      ]
    },
    {
      "cell_type": "code",
      "source": [
        "#La funcion type nos devuelve el tipo de dato de la variable\n",
        "type(grupoa)"
      ],
      "metadata": {
        "id": "LznXQoScxK_q",
        "colab": {
          "base_uri": "https://localhost:8080/"
        },
        "outputId": "b94158e1-675e-476d-9b61-35deb0b8659e"
      },
      "execution_count": 5,
      "outputs": [
        {
          "output_type": "execute_result",
          "data": {
            "text/plain": [
              "list"
            ]
          },
          "metadata": {},
          "execution_count": 5
        }
      ]
    },
    {
      "cell_type": "code",
      "source": [
        "#Sacar la media de las calificaciones con una formula\n",
        "prommedio = sum(grupoa) / len(grupoa)\n",
        "print(prommedio)"
      ],
      "metadata": {
        "id": "nCg30zDRxl7C",
        "colab": {
          "base_uri": "https://localhost:8080/"
        },
        "outputId": "eca38187-56c7-4959-ed3d-1bbbcf86c78b"
      },
      "execution_count": 6,
      "outputs": [
        {
          "output_type": "stream",
          "name": "stdout",
          "text": [
            "75.33333333333333\n"
          ]
        }
      ]
    },
    {
      "cell_type": "code",
      "source": [
        "#Utilizar la funcion mean que esta en la libreria statistics para sacar el promedio\n",
        "promedio2 = mean(grupoa)\n",
        "print(promedio2)"
      ],
      "metadata": {
        "id": "r3681a_wx7nY",
        "colab": {
          "base_uri": "https://localhost:8080/"
        },
        "outputId": "42b4b31d-6928-41ff-e2ff-d4572b9d0fa0"
      },
      "execution_count": 7,
      "outputs": [
        {
          "output_type": "stream",
          "name": "stdout",
          "text": [
            "75.33333333333333\n"
          ]
        }
      ]
    },
    {
      "cell_type": "code",
      "source": [
        "#Determinar el valor de la mediana con la funcion median\n",
        "mediana = median(grupoa)\n",
        "print(mediana)"
      ],
      "metadata": {
        "id": "Nhk0Ay3hzM2i",
        "colab": {
          "base_uri": "https://localhost:8080/"
        },
        "outputId": "16634027-8316-4cc3-d2d7-9e35537cdbf1"
      },
      "execution_count": 8,
      "outputs": [
        {
          "output_type": "stream",
          "name": "stdout",
          "text": [
            "76.5\n"
          ]
        }
      ]
    },
    {
      "cell_type": "code",
      "source": [
        "#Determinar el valor de la moda con la funcion mode\n",
        "moda = mode(grupoa)\n",
        "print(moda)"
      ],
      "metadata": {
        "id": "ltLetMZZzqjP",
        "colab": {
          "base_uri": "https://localhost:8080/"
        },
        "outputId": "72c3774f-5b40-4527-cb73-f43f6e265510"
      },
      "execution_count": 9,
      "outputs": [
        {
          "output_type": "stream",
          "name": "stdout",
          "text": [
            "70\n"
          ]
        }
      ]
    },
    {
      "cell_type": "code",
      "source": [
        "#En caso de que exista mas de una moda, se puede emplear la funcion multimode para multiples modas que puedan existir\n",
        "moda2 = multimode(grupoa)\n",
        "print(moda2)"
      ],
      "metadata": {
        "id": "YougufZ4z2Qx",
        "colab": {
          "base_uri": "https://localhost:8080/"
        },
        "outputId": "49e7955f-7504-4bf6-be2d-638fcf013775"
      },
      "execution_count": 10,
      "outputs": [
        {
          "output_type": "stream",
          "name": "stdout",
          "text": [
            "[70, 100]\n"
          ]
        }
      ]
    },
    {
      "cell_type": "markdown",
      "source": [
        "### **Ejemplo 2. Tiempos de 100 metros de un grupo de 12 personas.**"
      ],
      "metadata": {
        "id": "5ihh8tsd0SNM"
      }
    },
    {
      "cell_type": "code",
      "source": [
        "#Definimos una variable llamada tiempos100mts de tipo lista, que contiene los tiempos que tardaron los 10 alumnos para correr los 100 metros\n",
        "tiempos100mts = [15.10, 17.20, 14.69, 13.27, 22.15, 18.71, 19.15, 20.65, 15.10,17.20]\n",
        "\n",
        "#Desplegamos los valores de la lista\n",
        "print(tiempos100mts)"
      ],
      "metadata": {
        "colab": {
          "base_uri": "https://localhost:8080/"
        },
        "id": "iQ-vQb190Ruy",
        "outputId": "71906c68-64d6-439b-94be-4238274c8ebf"
      },
      "execution_count": 11,
      "outputs": [
        {
          "output_type": "stream",
          "name": "stdout",
          "text": [
            "[15.1, 17.2, 14.69, 13.27, 22.15, 18.71, 19.15, 20.65, 15.1, 17.2]\n"
          ]
        }
      ]
    },
    {
      "cell_type": "code",
      "source": [
        "#Usamos la funcion mean para determinar el tiempo promedio de la lista de valores\n",
        "print(\"El tiempo promedio de los corredores es => \", mean(tiempos100mts))"
      ],
      "metadata": {
        "id": "nGt1HU1u1N8a",
        "colab": {
          "base_uri": "https://localhost:8080/"
        },
        "outputId": "cda55137-48bc-4a1e-c367-3cafc2143555"
      },
      "execution_count": 12,
      "outputs": [
        {
          "output_type": "stream",
          "name": "stdout",
          "text": [
            "El tiempo promedio de los corredores es =>  17.322\n"
          ]
        }
      ]
    },
    {
      "cell_type": "markdown",
      "source": [
        "Funcion median para calcular la mediana"
      ],
      "metadata": {
        "id": "0nx8y1wo1pll"
      }
    },
    {
      "cell_type": "code",
      "source": [
        "#Usamos la funcion median para determinar el tiempo promedio de la lista de valores\n",
        "#Definimos una variable llamada mediana para calcular la mediana de la lista con median\n",
        "\n",
        "mediana = median(tiempos100mts)\n",
        "print(mediana)"
      ],
      "metadata": {
        "id": "5a06dU6i1tV2",
        "colab": {
          "base_uri": "https://localhost:8080/"
        },
        "outputId": "1b45d739-7583-451c-c8b0-a579fb13ce63"
      },
      "execution_count": 13,
      "outputs": [
        {
          "output_type": "stream",
          "name": "stdout",
          "text": [
            "17.2\n"
          ]
        }
      ]
    },
    {
      "cell_type": "code",
      "source": [
        "moda = mode(tiempos100mts)\n",
        "print(\"La moda de los tiempos es => \", moda)"
      ],
      "metadata": {
        "id": "fVC9UQ0p1-43",
        "colab": {
          "base_uri": "https://localhost:8080/"
        },
        "outputId": "8596bf62-0ca8-448c-b8eb-182635dadfea"
      },
      "execution_count": 14,
      "outputs": [
        {
          "output_type": "stream",
          "name": "stdout",
          "text": [
            "La moda de los tiempos es =>  15.1\n"
          ]
        }
      ]
    },
    {
      "cell_type": "code",
      "source": [
        "multimodas = multimode(tiempos100mts)\n",
        "print(\"Las modas de los tiempos son => \", multimodas)"
      ],
      "metadata": {
        "id": "92iNRAzW2Rd_",
        "colab": {
          "base_uri": "https://localhost:8080/"
        },
        "outputId": "c64203bc-5351-4fa1-f0e1-76c3a2091226"
      },
      "execution_count": 15,
      "outputs": [
        {
          "output_type": "stream",
          "name": "stdout",
          "text": [
            "Las modas de los tiempos son =>  [15.1, 17.2]\n"
          ]
        }
      ]
    },
    {
      "cell_type": "markdown",
      "source": [
        "### **Ejemplo 3: Histogramas de 2 grupos**"
      ],
      "metadata": {
        "id": "M1J-A1xT21YA"
      }
    },
    {
      "cell_type": "code",
      "source": [
        "#Libreria para generar numeros aleatorios\n",
        "import random"
      ],
      "metadata": {
        "id": "I1sEfPsz26lo"
      },
      "execution_count": 16,
      "outputs": []
    },
    {
      "cell_type": "code",
      "source": [
        "fabrica1 = []\n",
        "for i in range(100):\n",
        "  numero_aleatorio = round(random.uniform(50, 100), 2)\n",
        "  fabrica1.append(numero_aleatorio)\n",
        "print(fabrica1)"
      ],
      "metadata": {
        "id": "t5JBMGJx3I03",
        "colab": {
          "base_uri": "https://localhost:8080/"
        },
        "outputId": "0df633d8-f02c-4cd3-ba38-7783b2ebb57d"
      },
      "execution_count": 17,
      "outputs": [
        {
          "output_type": "stream",
          "name": "stdout",
          "text": [
            "[78.06, 57.82, 99.34, 78.36, 88.9, 81.74, 64.65, 81.74, 93.27, 75.23, 66.34, 57.95, 88.54, 77.96, 81.82, 82.71, 95.81, 69.56, 55.06, 95.99, 68.33, 64.32, 85.5, 86.75, 88.66, 98.74, 65.73, 63.14, 91.31, 81.61, 99.34, 51.52, 77.63, 55.15, 60.91, 62.71, 73.03, 60.63, 63.88, 57.3, 90.11, 64.49, 53.03, 61.48, 96.83, 90.93, 68.36, 86.55, 74.19, 82.15, 95.78, 52.73, 63.76, 52.41, 66.91, 81.09, 61.79, 90.77, 74.45, 63.85, 77.48, 95.14, 74.73, 63.82, 97.82, 51.36, 72.21, 94.99, 57.49, 73.25, 61.98, 91.68, 62.95, 94.6, 98.84, 57.35, 50.76, 56.95, 78.11, 79.04, 80.54, 95.09, 51.77, 88.43, 72.96, 56.16, 80.85, 70.85, 66.12, 75.54, 55.15, 89.47, 82.46, 60.91, 56.28, 78.69, 58.37, 99.9, 84.42, 69.03]\n"
          ]
        }
      ]
    },
    {
      "cell_type": "code",
      "source": [
        "fabrica2 = []\n",
        "for i in range(100):\n",
        "  numero_aleatorio = round(random.uniform(50, 100), 2)\n",
        "  fabrica2.append(numero_aleatorio)\n",
        "print(fabrica2)"
      ],
      "metadata": {
        "id": "nnNniRqA4o8S",
        "colab": {
          "base_uri": "https://localhost:8080/"
        },
        "outputId": "024dfe60-4b82-4f9a-f6b8-b283e1e141bc"
      },
      "execution_count": 18,
      "outputs": [
        {
          "output_type": "stream",
          "name": "stdout",
          "text": [
            "[53.68, 50.66, 90.87, 81.61, 92.32, 97.11, 79.37, 97.05, 69.69, 76.38, 69.36, 96.05, 93.24, 56.89, 72.02, 54.85, 74.93, 58.48, 71.94, 93.36, 89.07, 50.53, 63.26, 70.15, 63.72, 84.34, 53.69, 97.21, 99.13, 91.01, 56.91, 85.88, 78.93, 55.7, 79.1, 63.68, 62.48, 82.92, 52.13, 65.22, 67.44, 85.02, 52.17, 98.86, 69.44, 50.09, 91.94, 78.14, 75.0, 64.16, 94.81, 88.97, 96.14, 99.89, 65.07, 81.64, 81.57, 52.92, 58.45, 98.17, 76.2, 85.54, 73.78, 80.48, 67.24, 99.12, 82.71, 54.87, 93.73, 98.19, 99.7, 78.94, 77.27, 99.87, 63.85, 94.44, 57.22, 59.32, 77.16, 65.82, 93.3, 63.65, 83.6, 74.13, 65.62, 81.29, 92.61, 51.69, 75.99, 88.43, 93.67, 66.16, 88.0, 64.66, 83.73, 99.26, 88.91, 74.65, 55.34, 78.13]\n"
          ]
        }
      ]
    },
    {
      "cell_type": "code",
      "source": [
        "#Libreria de Python para graficar valores\n",
        "import matplotlib.pyplot as plt"
      ],
      "metadata": {
        "id": "jQIOQQJQ4_E-"
      },
      "execution_count": 19,
      "outputs": []
    },
    {
      "cell_type": "code",
      "source": [
        "plt.hist(fabrica1)\n",
        "plt.title(\"Produccion diaria de la Fabrica 1\")"
      ],
      "metadata": {
        "id": "PFCXLIKy5Fln",
        "colab": {
          "base_uri": "https://localhost:8080/",
          "height": 470
        },
        "outputId": "01fcbf1a-f712-42c5-a634-78b11dee00c2"
      },
      "execution_count": 20,
      "outputs": [
        {
          "output_type": "execute_result",
          "data": {
            "text/plain": [
              "Text(0.5, 1.0, 'Produccion diaria de la Fabrica 1')"
            ]
          },
          "metadata": {},
          "execution_count": 20
        },
        {
          "output_type": "display_data",
          "data": {
            "text/plain": [
              "<Figure size 640x480 with 1 Axes>"
            ],
            "image/png": "[encoded data removed]"
          },
          "metadata": {}
        }
      ]
    },
    {
      "cell_type": "code",
      "source": [
        "plt.hist(fabrica2)\n",
        "plt.title(\"Produccion diaria de la Fabrica 2\")"
      ],
      "metadata": {
        "id": "Cy5KTFd85I5g",
        "colab": {
          "base_uri": "https://localhost:8080/",
          "height": 470
        },
        "outputId": "908e7ab7-52f6-44b6-a9a8-85e8d6c509a1"
      },
      "execution_count": 21,
      "outputs": [
        {
          "output_type": "execute_result",
          "data": {
            "text/plain": [
              "Text(0.5, 1.0, 'Produccion diaria de la Fabrica 2')"
            ]
          },
          "metadata": {},
          "execution_count": 21
        },
        {
          "output_type": "display_data",
          "data": {
            "text/plain": [
              "<Figure size 640x480 with 1 Axes>"
            ],
            "image/png": "[encoded data removed]"
          },
          "metadata": {}
        }
      ]
    },
    {
      "cell_type": "code",
      "source": [
        "media1 = mean(fabrica1)\n",
        "mediana1 = median(fabrica1)\n",
        "moda1 = mode(fabrica1)\n",
        "\n",
        "print(\"Valores de la fabrica 1\")\n",
        "print(\"La media es => \", media1)\n",
        "print(\"La mediana es => \", mediana1)\n",
        "print(\"La moda es => \", moda1)"
      ],
      "metadata": {
        "id": "xJVOtR185w7b",
        "colab": {
          "base_uri": "https://localhost:8080/"
        },
        "outputId": "050ca00a-ccb8-4cc7-f8f8-5bfa6a35f783"
      },
      "execution_count": 22,
      "outputs": [
        {
          "output_type": "stream",
          "name": "stdout",
          "text": [
            "Valores de la fabrica 1\n",
            "La media es =>  74.6224\n",
            "La mediana es =>  74.59\n",
            "La moda es =>  99.34\n"
          ]
        }
      ]
    },
    {
      "cell_type": "code",
      "source": [
        "media2 = mean(fabrica2)\n",
        "mediana2 = median(fabrica2)\n",
        "moda2 = mode(fabrica2)\n",
        "\n",
        "print(\"Valores de la fabrica 1\")\n",
        "print(\"La media es => \", media2)\n",
        "print(\"La mediana es => \", mediana2)\n",
        "print(\"La moda es => \", moda2)"
      ],
      "metadata": {
        "id": "xbN6mLe46hfa",
        "colab": {
          "base_uri": "https://localhost:8080/"
        },
        "outputId": "2f709791-127d-46ef-d266-57ae7b28c64d"
      },
      "execution_count": 23,
      "outputs": [
        {
          "output_type": "stream",
          "name": "stdout",
          "text": [
            "Valores de la fabrica 1\n",
            "La media es =>  76.7308\n",
            "La mediana es =>  77.69999999999999\n",
            "La moda es =>  53.68\n"
          ]
        }
      ]
    },
    {
      "cell_type": "code",
      "source": [
        "#Generar 2 subplot de 1 renglon por 2 columnas para desplegar los 2 histogramas, una al lado de otra\n",
        "\n",
        "fig, (ax1, ax2) = plt.subplots(nrows = 1, ncols = 2, figsize = (10, 5))\n",
        "ax1.hist(fabrica1)\n",
        "ax2.hist(fabrica2)\n",
        "plt.show()"
      ],
      "metadata": {
        "id": "TSHEJHf_7OQW",
        "colab": {
          "base_uri": "https://localhost:8080/",
          "height": 445
        },
        "outputId": "49c5a089-4e91-4c41-d6ae-3d1ba7b1ddae"
      },
      "execution_count": 24,
      "outputs": [
        {
          "output_type": "display_data",
          "data": {
            "text/plain": [
              "<Figure size 1000x500 with 2 Axes>"
            ],
            "image/png": "[encoded data removed]"
          },
          "metadata": {}
        }
      ]
    },
    {
      "cell_type": "code",
      "source": [
        "plt.hist(fabrica1, bins=10, alpha=0.2, color='b', edgecolor=\"black\")\n",
        "plt.axvline(media1, color='b', linestyle='dashed', linewidth=2, label='Media')\n",
        "plt.axvline(mediana1, color='r', linestyle='dashed', linewidth=2, label='Mediana')\n",
        "plt.axvline(moda1, color='y', linestyle='dashed', linewidth=2, label='Moda')\n",
        "plt.xlabel('Valor')\n",
        "plt.ylabel('Frecuencia')\n",
        "plt.title('Produccion diaria de la Fabrica 1')\n",
        "plt.legend()\n",
        "plt.show()"
      ],
      "metadata": {
        "id": "9cD_NrU78u2e",
        "colab": {
          "base_uri": "https://localhost:8080/",
          "height": 472
        },
        "outputId": "a5e7e2d0-3021-4ae4-d910-d3917f808daf"
      },
      "execution_count": 25,
      "outputs": [
        {
          "output_type": "display_data",
          "data": {
            "text/plain": [
              "<Figure size 640x480 with 1 Axes>"
            ],
            "image/png": "[encoded data removed]"
          },
          "metadata": {}
        }
      ]
    },
    {
      "cell_type": "code",
      "source": [
        "plt.hist(fabrica2, bins=10, alpha=0.2, color='b', edgecolor=\"black\")\n",
        "plt.axvline(media2, color='b', linestyle='dashed', linewidth=2, label='Media')\n",
        "plt.axvline(mediana2, color='r', linestyle='dashed', linewidth=2, label='Mediana')\n",
        "plt.axvline(moda2, color='y', linestyle='dashed', linewidth=2, label='Moda')\n",
        "plt.xlabel('Valor')\n",
        "plt.ylabel('Frecuencia')\n",
        "plt.title('Produccion diaria de la Fabrica 2')\n",
        "plt.legend()\n",
        "plt.show()"
      ],
      "metadata": {
        "id": "_1DRzbhr_Y-g",
        "colab": {
          "base_uri": "https://localhost:8080/",
          "height": 472
        },
        "outputId": "5a6c4fd8-3960-47d3-a6cd-b412c7020744"
      },
      "execution_count": 26,
      "outputs": [
        {
          "output_type": "display_data",
          "data": {
            "text/plain": [
              "<Figure size 640x480 with 1 Axes>"
            ],
            "image/png": "[encoded data removed]"
          },
          "metadata": {}
        }
      ]
    }
  ]
}